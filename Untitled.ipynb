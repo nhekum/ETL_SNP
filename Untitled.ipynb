{
 "cells": [
  {
   "cell_type": "code",
   "execution_count": 16,
   "id": "bdee0be4-594f-432d-bf8a-372703d3775a",
   "metadata": {
    "scrolled": true
   },
   "outputs": [
    {
     "name": "stdout",
     "output_type": "stream",
     "text": [
      "Have driver\n",
      "ETL_DATE 20230901\n",
      "ICEBERG_TABLE:   CREATE TABLE IF NOT EXISTS DWH_RAW.RAW_CHE_PRODUCTIVITY_DETAILS (ITEM_KEY string,EXEC_TS string,MOVE_TYPE string,CAT_TYPE string,IN_OUT string,ITEM_NO string,FEL string,ISO string,LENGTH string,BILL_TYPE string,CHE_ID string,CHE_TYPE string,CHE_OPER string,PLACE_OF_DELIVERY string,PLACE_OF_RECEIPT string,VES_ID string,VES_TYPE string,INTERNAL_MOVE_CD string,HIST_FLG string,COMPLETE_TS string,STACK string,X string,Y string,Z string,TO_STACK string,TO_X string,TO_Y string,TO_Z string,CATEGORY string,ARR_TS string,DEP_TS string,CREATED_TS string,CREATED_BY string,LAST_UPD_TS string,LAST_UPD_BY string,OPERATION_METHOD string,TRANSFER_REASON_CD string,REPORT_TS string,REPORT_MONTH string) USING iceberg \n",
      "QUERY:   SELECT ITEM_KEY, EXEC_TS, MOVE_TYPE, CAT_TYPE, IN_OUT, ITEM_NO, FEL, ISO, LENGTH, BILL_TYPE, CHE_ID, CHE_TYPE, CHE_OPER, PLACE_OF_DELIVERY, PLACE_OF_RECEIPT, VES_ID, VES_TYPE, INTERNAL_MOVE_CD, HIST_FLG, COMPLETE_TS, STACK, X, Y, Z, TO_STACK, TO_X, TO_Y, TO_Z, CATEGORY, ARR_TS, DEP_TS, CREATED_TS, CREATED_BY, LAST_UPD_TS, LAST_UPD_BY, OPERATION_METHOD, TRANSFER_REASON_CD, REPORT_TS, REPORT_MONTH FROM \"TOPOVN\".\"CHE_PRODUCTIVITY_DETAILS\"  WHERE EXEC_TS = '01-SEP-23' \n",
      "Have driver\n"
     ]
    },
    {
     "name": "stderr",
     "output_type": "stream",
     "text": [
      "                                                                                \r"
     ]
    },
    {
     "name": "stdout",
     "output_type": "stream",
     "text": [
      "1\n"
     ]
    },
    {
     "name": "stderr",
     "output_type": "stream",
     "text": [
      "                                                                                \r"
     ]
    }
   ],
   "source": [
    "import os\n",
    "import json\n",
    "from etl.raw import source2raw\n",
    "from etl.utils.spark import Spark\n",
    "from etl.utils.database import Hook\n",
    "from etl.utils.datatype import json2object\n",
    "\n",
    "cwd = os.getenv(\"AIRFLOW_HOME\")\n",
    "info_dag = json2object(\"%s/dags/config/job/RAW/raw_che_prodictivity_details.json\"%(cwd))\n",
    "src_config = json.load(open(\"%s/dags/config/database/oracle.json\"%(cwd)))\n",
    "dst_config = json.load(open(\"%s/dags/config/database/minio.json\"%(cwd)))\n",
    "param_config = json.load(open(\"%s/dags/config/database/postgres.json\"%(cwd)))\n",
    "log_config = json.load(open(\"%s/dags/config/database/postgres.json\"%(cwd)))\n",
    "spark_config = json.load(open(\"%s/dags/config/spark/spark_iceberg.json\"%(cwd)))\n",
    "\n",
    "os.environ[\"AWS_ACCESS_KEY_ID\"] = dst_config[\"DB_USER\"]\n",
    "os.environ[\"AWS_SECRET_ACCESS_KEY\"] = dst_config[\"DB_PASSWORD\"]\n",
    "os.environ[\"AWS_REGION\"] = dst_config[\"DB_REGION\"]\n",
    "\n",
    "spark = Spark(spark_config)\n",
    "hook = Hook(log_config)\n",
    "source2raw.thread(init_spark=spark, info_dag=info_dag, src_config=src_config, param_config=param_config, hook=hook)"
   ]
  },
  {
   "cell_type": "code",
   "execution_count": 2,
   "id": "4f6d75f8-6b28-4a09-bd4e-c2b48d9c82a8",
   "metadata": {},
   "outputs": [],
   "source": [
    "from dateutil.parser import parse \n",
    "date_time = parse(\"20240831\", fuzzy=False)"
   ]
  },
  {
   "cell_type": "code",
   "execution_count": 2,
   "id": "c4c61b80-4193-4ee0-8a2c-da03ec509970",
   "metadata": {},
   "outputs": [
    {
     "data": {
      "text/plain": [
       "DataFrame[]"
      ]
     },
     "execution_count": 2,
     "metadata": {},
     "output_type": "execute_result"
    }
   ],
   "source": [
    "spark.session.sql(\"\"\" CREATE TABLE IF NOT EXISTS DWH_RAW.RAW_CHE_PRODUCTIVITY_DETAILS (ITEM_KEY string,EXEC_TS string,MOVE_TYPE string,CAT_TYPE string,IN_OUT string,ITEM_NO string,FEL string,ISO string,LENGTH string,BILL_TYPE string,CHE_ID string,CHE_TYPE string,CHE_OPER string,PLACE_OF_DELIVERY string,PLACE_OF_RECEIPT string,VES_ID string,VES_TYPE string,INTERNAL_MOVE_CD string,HIST_FLG string,COMPLETE_TS string,STACK string,X string,Y string,Z string,TO_STACK string,TO_X string,TO_Y string,TO_Z string,CATEGORY string,ARR_TS string,DEP_TS string,CREATED_TS string,CREATED_BY string,LAST_UPD_TS string,LAST_UPD_BY string,OPERATION_METHOD string,TRANSFER_REASON_CD string,REPORT_TS string,REPORT_MONTH string) USING iceberg \"\"\")"
   ]
  },
  {
   "cell_type": "code",
   "execution_count": 39,
   "id": "f15bff67-33dd-4a9e-9c74-58822520ee82",
   "metadata": {},
   "outputs": [
    {
     "data": {
      "text/plain": [
       "DataFrame[]"
      ]
     },
     "execution_count": 39,
     "metadata": {},
     "output_type": "execute_result"
    }
   ],
   "source": [
    "# spark.session.sql(\"\"\" DROP TABLE DWH_RAW.RAW_CHE_PRODUCTIVITY_DETAILS \"\"\")"
   ]
  },
  {
   "cell_type": "code",
   "execution_count": 86,
   "id": "54199b23-3995-471e-a966-81db78df1c77",
   "metadata": {
    "scrolled": true
   },
   "outputs": [
    {
     "name": "stdout",
     "output_type": "stream",
     "text": [
      "+--------+---------+---------+--------+------+-----------+---+----+------+---------+---------+--------+--------------------+-----------------+----------------+------+--------+----------------+--------+-----------+-----+---+---+---+--------+----+----+----+--------+---------+---------+----------+--------------------+-----------+--------------------+----------------+------------------+---------+------------+\n",
      "|ITEM_KEY|  EXEC_TS|MOVE_TYPE|CAT_TYPE|IN_OUT|    ITEM_NO|FEL| ISO|LENGTH|BILL_TYPE|   CHE_ID|CHE_TYPE|            CHE_OPER|PLACE_OF_DELIVERY|PLACE_OF_RECEIPT|VES_ID|VES_TYPE|INTERNAL_MOVE_CD|HIST_FLG|COMPLETE_TS|STACK|  X|  Y|  Z|TO_STACK|TO_X|TO_Y|TO_Z|CATEGORY|   ARR_TS|   DEP_TS|CREATED_TS|          CREATED_BY|LAST_UPD_TS|         LAST_UPD_BY|OPERATION_METHOD|TRANSFER_REASON_CD|REPORT_TS|REPORT_MONTH|\n",
      "+--------+---------+---------+--------+------+-----------+---+----+------+---------+---------+--------+--------------------+-----------------+----------------+------+--------+----------------+--------+-----------+-----+---+---+---+--------+----+----+----+--------+---------+---------+----------+--------------------+-----------+--------------------+----------------+------------------+---------+------------+\n",
      "|31845610|31-AUG-23|   LIFTON|    YARD|   OUT|SEGU5710853|  F|4500|40.000|       **|      GC9|     TRN|C****************...|              KHA|             TCI|  NULL|     ***|            NULL|       *|  31-DEC-00|  Z01|***|***| **|    NULL| ***| ***|  **|       I|19-AUG-23|01-SEP-23| 01-SEP-23|P*******************|  02-OCT-23|P*******************|            GTHA|              NULL|01-SEP-23|      202309|\n",
      "|31845610|31-AUG-23|    TRANS|    YARD|   OUT|SEGU5710853|  F|4500|40.000|       **| 51C15293|    NULL|*****************...|              KHA|             TCI|  NULL|     ***|            NULL|       *|  31-DEC-00|  Z01|***|***| **|    NULL| ***| ***|  **|       I|19-AUG-23|01-SEP-23| 01-SEP-23|P*******************|  02-OCT-23|P*******************|            GTHA|              NULL|01-SEP-23|      202309|\n",
      "|31949376|31-AUG-23|    TRANS|    YARD|   OUT|FDCU0487563|  F|4500|40.000|       **|50LD15722|    NULL|*****************...|              KHA|             TCO|  NULL|     ***|            NULL|       *|  31-DEC-00|  E15|***|***| **|    NULL| ***| ***|  **|       I|28-AUG-23|01-SEP-23| 01-SEP-23|P*******************|  02-OCT-23|P*******************|            GTHA|              NULL|01-SEP-23|      202309|\n",
      "|31949376|31-AUG-23|   LIFTON|    YARD|   OUT|FDCU0487563|  F|4500|40.000|       **|      N05|     TRN|C****************...|              KHA|             TCO|  NULL|     ***|            NULL|       *|  31-DEC-00|  E15|***|***| **|    NULL| ***| ***|  **|       I|28-AUG-23|01-SEP-23| 01-SEP-23|P*******************|  02-OCT-23|P*******************|            GTHA|              NULL|01-SEP-23|      202309|\n",
      "|31945815|31-AUG-23|    TRANS|    YARD|   OUT|CMAU4260931|  F|4500|40.000|       **| 93H04327|    NULL|*****************...|              KHA|            NULL|  NULL|     ***|            NULL|       *|  31-DEC-00|  B06|***|***| **|    NULL| ***| ***|  **|       I|28-AUG-23|01-SEP-23| 01-SEP-23|P*******************|  02-OCT-23|P*******************|            GTHA|              NULL|01-SEP-23|      202309|\n",
      "|31945815|31-AUG-23|   LIFTON|    YARD|   OUT|CMAU4260931|  F|4500|40.000|       **|      G62|     TRN|T****************...|              KHA|            NULL|  NULL|     ***|            NULL|       *|  31-DEC-00|  B06|***|***| **|    NULL| ***| ***|  **|       I|28-AUG-23|01-SEP-23| 01-SEP-23|P*******************|  02-OCT-23|P*******************|            GTHA|              NULL|01-SEP-23|      202309|\n",
      "|31789945|31-AUG-23|   LIFTON|    YARD|   OUT|TCNU3959972|  F|4500|40.000|       **|      G98|     TRN|S****************...|              KHA|            NULL|  NULL|     ***|            NULL|       *|  31-DEC-00|  K14|***|***| **|    NULL| ***| ***|  **|       I|15-AUG-23|01-SEP-23| 01-SEP-23|P*******************|  02-OCT-23|P*******************|            GTHA|              NULL|01-SEP-23|      202309|\n",
      "|31789945|31-AUG-23|    TRANS|    YARD|   OUT|TCNU3959972|  F|4500|40.000|       **| 50H02784|    NULL|*****************...|              KHA|            NULL|  NULL|     ***|            NULL|       *|  31-DEC-00|  K14|***|***| **|    NULL| ***| ***|  **|       I|15-AUG-23|01-SEP-23| 01-SEP-23|P*******************|  02-OCT-23|P*******************|            GTHA|              NULL|01-SEP-23|      202309|\n",
      "|31850851|31-AUG-23|    TRANS|    YARD|   OUT|FFAU4510725|  F|4500|40.000|       **| 51D05764|    NULL|*****************...|              KHA|            NULL|  NULL|     ***|            NULL|       *|  31-DEC-00|  Q02|***|***| **|    NULL| ***| ***|  **|       I|20-AUG-23|01-SEP-23| 01-SEP-23|P*******************|  02-OCT-23|P*******************|            GTHA|              NULL|01-SEP-23|      202309|\n",
      "|31850851|31-AUG-23|   LIFTON|    YARD|   OUT|FFAU4510725|  F|4500|40.000|       **|      N02|     TRN|C****************...|              KHA|            NULL|  NULL|     ***|            NULL|       *|  31-DEC-00|  Q02|***|***| **|    NULL| ***| ***|  **|       I|20-AUG-23|01-SEP-23| 01-SEP-23|P*******************|  02-OCT-23|P*******************|            GTHA|              NULL|01-SEP-23|      202309|\n",
      "|31945396|31-AUG-23|   LIFTON|    YARD|   OUT|FFAU4960553|  F|4500|40.000|       **|      GA7|     TRN|S****************...|              KHA|            NULL|  NULL|     ***|            NULL|       *|  31-DEC-00|  D17|***|***| **|    NULL| ***| ***|  **|       I|28-AUG-23|01-SEP-23| 01-SEP-23|P*******************|  02-OCT-23|P*******************|            GTHA|              NULL|01-SEP-23|      202309|\n",
      "|31945396|31-AUG-23|    TRANS|    YARD|   OUT|FFAU4960553|  F|4500|40.000|       **| 50H05388|    NULL|*****************...|              KHA|            NULL|  NULL|     ***|            NULL|       *|  31-DEC-00|  D17|***|***| **|    NULL| ***| ***|  **|       I|28-AUG-23|01-SEP-23| 01-SEP-23|P*******************|  02-OCT-23|P*******************|            GTHA|              NULL|01-SEP-23|      202309|\n",
      "|31925101|31-AUG-23|   LIFTON|    YARD|   OUT|DFSU1000020|  F|2200|20.000|       **|      G97|     TRN|M****************...|              KHA|            NULL|  NULL|     ***|            NULL|       *|  31-DEC-00|  N03|***|***| **|    NULL| ***| ***|  **|       I|26-AUG-23|01-SEP-23| 01-SEP-23|P*******************|  02-OCT-23|P*******************|            GTHA|              NULL|01-SEP-23|      202309|\n",
      "|31925101|31-AUG-23|    TRANS|    YARD|   OUT|DFSU1000020|  F|2200|20.000|       **| 65C08958|    NULL|*****************...|              KHA|            NULL|  NULL|     ***|            NULL|       *|  31-DEC-00|  N03|***|***| **|    NULL| ***| ***|  **|       I|26-AUG-23|01-SEP-23| 01-SEP-23|P*******************|  02-OCT-23|P*******************|            GTHA|              NULL|01-SEP-23|      202309|\n",
      "|31982101|31-AUG-23|   LIFTON|    YARD|   OUT|QATU2400387|  F|2270|20.000|       **|      H23|     RST|V****************...|              KHA|            NULL|  NULL|     ***|            NULL|       *|  31-DEC-00|  S21|***|***| **|    NULL| ***| ***|  **|       I|30-AUG-23|01-SEP-23| 01-SEP-23|P*******************|  02-OCT-23|P*******************|            GTHA|              NULL|01-SEP-23|      202309|\n",
      "|31982101|31-AUG-23|    TRANS|    YARD|   OUT|QATU2400387|  F|2270|20.000|       **| 61C21097|    NULL|*****************...|              KHA|            NULL|  NULL|     ***|            NULL|       *|  31-DEC-00|  S21|***|***| **|    NULL| ***| ***|  **|       I|30-AUG-23|01-SEP-23| 01-SEP-23|P*******************|  02-OCT-23|P*******************|            GTHA|              NULL|01-SEP-23|      202309|\n",
      "|31946557|31-AUG-23|   LIFTON|    YARD|   OUT|TCLU8492965|  F|4500|40.000|       **|      GF7|     TRN|C****************...|              KHA|            NULL|  NULL|     ***|            NULL|       *|  31-DEC-00|  Q06|***|***| **|    NULL| ***| ***|  **|       I|28-AUG-23|01-SEP-23| 01-SEP-23|P*******************|  02-OCT-23|P*******************|            GTHA|              NULL|01-SEP-23|      202309|\n",
      "|31946557|31-AUG-23|    TRANS|    YARD|   OUT|TCLU8492965|  F|4500|40.000|       **| 51D13442|    NULL|*****************...|              KHA|            NULL|  NULL|     ***|            NULL|       *|  31-DEC-00|  Q06|***|***| **|    NULL| ***| ***|  **|       I|28-AUG-23|01-SEP-23| 01-SEP-23|P*******************|  02-OCT-23|P*******************|            GTHA|              NULL|01-SEP-23|      202309|\n",
      "|31938051|31-AUG-23|   LIFTON|    YARD|   OUT|MRSU4518078|  F|4500|40.000|       **|      G48|     TRN|N****************...|              KHA|            NULL|  NULL|     ***|            NULL|       *|  31-DEC-00|  K07|***|***| **|    NULL| ***| ***|  **|       I|27-AUG-23|01-SEP-23| 01-SEP-23|P*******************|  02-OCT-23|P*******************|            GTHA|              NULL|01-SEP-23|      202309|\n",
      "|31938051|31-AUG-23|    TRANS|    YARD|   OUT|MRSU4518078|  F|4500|40.000|       **| 50H20338|    NULL|*****************...|              KHA|            NULL|  NULL|     ***|            NULL|       *|  31-DEC-00|  K07|***|***| **|    NULL| ***| ***|  **|       I|27-AUG-23|01-SEP-23| 01-SEP-23|P*******************|  02-OCT-23|P*******************|            GTHA|              NULL|01-SEP-23|      202309|\n",
      "+--------+---------+---------+--------+------+-----------+---+----+------+---------+---------+--------+--------------------+-----------------+----------------+------+--------+----------------+--------+-----------+-----+---+---+---+--------+----+----+----+--------+---------+---------+----------+--------------------+-----------+--------------------+----------------+------------------+---------+------------+\n",
      "only showing top 20 rows\n",
      "\n"
     ]
    }
   ],
   "source": [
    "spark.session.sql(\"\"\" SELECT * FROM DWH_RAW.RAW_CHE_PRODUCTIVITY_DETAILS WHERE EXEC_TS = '31-AUG-23' \"\"\").show()"
   ]
  },
  {
   "cell_type": "code",
   "execution_count": 41,
   "id": "c2028075-60d9-4942-947a-3931d53dd426",
   "metadata": {},
   "outputs": [
    {
     "data": {
      "text/plain": [
       "77942"
      ]
     },
     "execution_count": 41,
     "metadata": {},
     "output_type": "execute_result"
    }
   ],
   "source": [
    "# spark.session.sql(\"\"\" SELECT * FROM DWH_RAW.RAW_CHE_PRODUCTIVITY_DETAILS \"\"\").count()\n",
    "spark.session.sql(\"\"\" SELECT * FROM DWH_RAW.RAW_CHE_PRODUCTIVITY_DETAILS \"\"\").count()"
   ]
  },
  {
   "cell_type": "code",
   "execution_count": 116,
   "id": "94aa2be7-452b-48e0-bc23-a59d838101ac",
   "metadata": {},
   "outputs": [
    {
     "name": "stderr",
     "output_type": "stream",
     "text": [
      "                                                                                \r"
     ]
    },
    {
     "data": {
      "text/plain": [
       "DataFrame[deleted_data_files_count: bigint, deleted_position_delete_files_count: bigint, deleted_equality_delete_files_count: bigint, deleted_manifest_files_count: bigint, deleted_manifest_lists_count: bigint, deleted_statistics_files_count: bigint]"
      ]
     },
     "execution_count": 116,
     "metadata": {},
     "output_type": "execute_result"
    }
   ],
   "source": [
    "spark.session.sql(\"CALL system.expire_snapshots('DWH_RAW.RAW_CHE_PRODUCTIVITY_DETAILS')\")\n"
   ]
  },
  {
   "cell_type": "code",
   "execution_count": 117,
   "id": "cf67bad0-57a9-472c-b1d8-4535965ae822",
   "metadata": {},
   "outputs": [
    {
     "name": "stdout",
     "output_type": "stream",
     "text": [
      "+--------------------+-------------------+-------------------+---------+--------------------+--------------------+\n",
      "|        committed_at|        snapshot_id|          parent_id|operation|       manifest_list|             summary|\n",
      "+--------------------+-------------------+-------------------+---------+--------------------+--------------------+\n",
      "|2024-02-22 08:20:...|5292243814209836461|6589309631411475200|   delete|s3://warehouse/DW...|{spark.app.id -> ...|\n",
      "|2024-02-22 08:20:...|2896119084223671169|5292243814209836461|   delete|s3://warehouse/DW...|{spark.app.id -> ...|\n",
      "|2024-02-22 08:20:...|7016768196751390614|2896119084223671169|   delete|s3://warehouse/DW...|{spark.app.id -> ...|\n",
      "|2024-02-22 08:20:...|6645120907018768151|7016768196751390614|   delete|s3://warehouse/DW...|{spark.app.id -> ...|\n",
      "|2024-02-22 08:20:...| 703039421118145631|6645120907018768151|   delete|s3://warehouse/DW...|{spark.app.id -> ...|\n",
      "|2024-02-22 08:21:...|6343566852709889107| 703039421118145631|   delete|s3://warehouse/DW...|{spark.app.id -> ...|\n",
      "|2024-02-22 08:23:...|1760162752066980560|6343566852709889107|   append|s3://warehouse/DW...|{spark.app.id -> ...|\n",
      "|2024-02-22 08:24:...|1545131776264332847|1760162752066980560|   append|s3://warehouse/DW...|{spark.app.id -> ...|\n",
      "|2024-02-22 08:26:...|1256885379318795085|1545131776264332847|   append|s3://warehouse/DW...|{spark.app.id -> ...|\n",
      "|2024-02-22 08:27:...|7376600899099126484|1256885379318795085|   append|s3://warehouse/DW...|{spark.app.id -> ...|\n",
      "|2024-02-22 08:30:...|2139821581059694109|7376600899099126484|   append|s3://warehouse/DW...|{spark.app.id -> ...|\n",
      "|2024-02-22 08:31:...|2023455494201430651|2139821581059694109|   append|s3://warehouse/DW...|{spark.app.id -> ...|\n",
      "|2024-02-22 08:33:...|5139004697908549982|2023455494201430651|   append|s3://warehouse/DW...|{spark.app.id -> ...|\n",
      "|2024-02-22 08:34:...|2505829220636515282|5139004697908549982|   append|s3://warehouse/DW...|{spark.app.id -> ...|\n",
      "|2024-02-22 08:52:...|8143236311079515279|2505829220636515282|  replace|s3://warehouse/DW...|{manifests-create...|\n",
      "+--------------------+-------------------+-------------------+---------+--------------------+--------------------+\n",
      "\n"
     ]
    }
   ],
   "source": [
    "spark.session.sql(\"SELECT * FROM DWH_RAW.RAW_CHE_PRODUCTIVITY_DETAILS.snapshots;\").show(50)"
   ]
  },
  {
   "cell_type": "code",
   "execution_count": 57,
   "id": "831fd4c1-ec14-4454-b470-6b55007bc15a",
   "metadata": {},
   "outputs": [
    {
     "name": "stdout",
     "output_type": "stream",
     "text": [
      "+----+------+-------------------+-----------------------+---------------------+----------------------+\n",
      "|name|  type|        snapshot_id|max_reference_age_in_ms|min_snapshots_to_keep|max_snapshot_age_in_ms|\n",
      "+----+------+-------------------+-----------------------+---------------------+----------------------+\n",
      "|main|BRANCH|7432489725179573222|                   NULL|                 NULL|                  NULL|\n",
      "+----+------+-------------------+-----------------------+---------------------+----------------------+\n",
      "\n"
     ]
    }
   ],
   "source": [
    "spark.session.sql(\"SELECT * FROM DWH_RAW.RAW_CHE_PRODUCTIVITY_DETAILS.refs;\").show()"
   ]
  },
  {
   "cell_type": "code",
   "execution_count": 31,
   "id": "0f591875-bde8-4e7a-a51f-3ab7087d3998",
   "metadata": {},
   "outputs": [
    {
     "data": {
      "text/plain": [
       "DataFrame[previous_snapshot_id: bigint, current_snapshot_id: bigint]"
      ]
     },
     "execution_count": 31,
     "metadata": {},
     "output_type": "execute_result"
    }
   ],
   "source": [
    "spark.session.sql(\"CALL system.set_current_snapshot('DWH_RAW.RAW_CHE_PRODUCTIVITY_DETAILS', 1641766163143949328)\")"
   ]
  },
  {
   "cell_type": "code",
   "execution_count": 51,
   "id": "da5ff886-4043-411d-8c19-e78d9c8f231d",
   "metadata": {},
   "outputs": [
    {
     "data": {
      "text/plain": [
       "DataFrame[]"
      ]
     },
     "execution_count": 51,
     "metadata": {},
     "output_type": "execute_result"
    }
   ],
   "source": [
    "spark.session.sql(\"ALTER TABLE DWH_RAW.RAW_CHE_PRODUCTIVITY_DETAILS ADD PARTITION FIELD EXEC_TS\")"
   ]
  },
  {
   "cell_type": "code",
   "execution_count": 112,
   "id": "beb27bba-2bbb-4e2c-930e-78633da15f26",
   "metadata": {
    "scrolled": true
   },
   "outputs": [
    {
     "name": "stdout",
     "output_type": "stream",
     "text": [
      "+-----------+-------+------------+----------+-----------------------------+----------------------------+--------------------------+----------------------------+--------------------------+--------------------+------------------------+\n",
      "|  partition|spec_id|record_count|file_count|total_data_file_size_in_bytes|position_delete_record_count|position_delete_file_count|equality_delete_record_count|equality_delete_file_count|     last_updated_at|last_updated_snapshot_id|\n",
      "+-----------+-------+------------+----------+-----------------------------+----------------------------+--------------------------+----------------------------+--------------------------+--------------------+------------------------+\n",
      "|{01-OCT-23}|      1|          52|         1|                        12514|                           0|                         0|                           0|                         0|                NULL|                    NULL|\n",
      "|{01-SEP-23}|      1|       63809|         1|                       896673|                           0|                         0|                           0|                         0|2024-02-22 08:24:...|     1545131776264332847|\n",
      "|{02-OCT-23}|      1|           1|         1|                        10206|                           0|                         0|                           0|                         0|                NULL|                    NULL|\n",
      "|{02-SEP-23}|      1|       47032|         1|                       612812|                           0|                         0|                           0|                         0|2024-02-22 08:26:...|     1256885379318795085|\n",
      "|{03-SEP-23}|      1|       52093|         1|                       685675|                           0|                         0|                           0|                         0|2024-02-22 08:27:...|     7376600899099126484|\n",
      "|{04-SEP-23}|      1|       47392|         1|                       704699|                           0|                         0|                           0|                         0|2024-02-22 08:30:...|     2139821581059694109|\n",
      "|{05-SEP-23}|      1|       70530|         1|                      1069319|                           0|                         0|                           0|                         0|2024-02-22 08:31:...|     2023455494201430651|\n",
      "|{06-SEP-23}|      1|       84040|         1|                      1262882|                           0|                         0|                           0|                         0|2024-02-22 08:33:...|     5139004697908549982|\n",
      "|{07-SEP-23}|      1|       93876|         1|                      1386194|                           0|                         0|                           0|                         0|2024-02-22 08:34:...|     2505829220636515282|\n",
      "|{08-SEP-23}|      1|       80998|         1|                      1229058|                           0|                         0|                           0|                         0|                NULL|                    NULL|\n",
      "|{09-SEP-23}|      1|       81813|         1|                      1191787|                           0|                         0|                           0|                         0|                NULL|                    NULL|\n",
      "|{10-SEP-23}|      1|       62480|         1|                       875803|                           0|                         0|                           0|                         0|                NULL|                    NULL|\n",
      "|{11-SEP-23}|      1|       79948|         1|                      1159871|                           0|                         0|                           0|                         0|                NULL|                    NULL|\n",
      "|{12-SEP-23}|      1|       93076|         1|                      1361843|                           0|                         0|                           0|                         0|                NULL|                    NULL|\n",
      "|{13-SEP-23}|      1|       85771|         1|                      1291186|                           0|                         0|                           0|                         0|                NULL|                    NULL|\n",
      "|{14-SEP-23}|      1|       87964|         1|                      1285016|                           0|                         0|                           0|                         0|                NULL|                    NULL|\n",
      "|{15-SEP-23}|      1|       84240|         1|                      1242768|                           0|                         0|                           0|                         0|                NULL|                    NULL|\n",
      "|{16-SEP-23}|      1|       82334|         1|                      1176593|                           0|                         0|                           0|                         0|                NULL|                    NULL|\n",
      "|{17-SEP-23}|      1|       64371|         1|                       879840|                           0|                         0|                           0|                         0|                NULL|                    NULL|\n",
      "|{18-SEP-23}|      1|       72016|         1|                      1059497|                           0|                         0|                           0|                         0|                NULL|                    NULL|\n",
      "|{19-SEP-23}|      1|       89152|         1|                      1287798|                           0|                         0|                           0|                         0|                NULL|                    NULL|\n",
      "|{20-SEP-23}|      1|       80686|         1|                      1201653|                           0|                         0|                           0|                         0|                NULL|                    NULL|\n",
      "|{21-SEP-23}|      1|       88398|         1|                      1276338|                           0|                         0|                           0|                         0|                NULL|                    NULL|\n",
      "|{22-SEP-23}|      1|       91988|         1|                      1328584|                           0|                         0|                           0|                         0|                NULL|                    NULL|\n",
      "|{23-SEP-23}|      1|       77610|         1|                      1126281|                           0|                         0|                           0|                         0|                NULL|                    NULL|\n",
      "|{24-SEP-23}|      1|       64920|         1|                       872779|                           0|                         0|                           0|                         0|                NULL|                    NULL|\n",
      "|{25-SEP-23}|      1|       86041|         1|                      1214778|                           0|                         0|                           0|                         0|                NULL|                    NULL|\n",
      "|{26-SEP-23}|      1|       83024|         1|                      1233285|                           0|                         0|                           0|                         0|                NULL|                    NULL|\n",
      "|{27-SEP-23}|      1|       83421|         1|                      1225875|                           0|                         0|                           0|                         0|                NULL|                    NULL|\n",
      "|{28-SEP-23}|      1|       86856|         1|                      1276262|                           0|                         0|                           0|                         0|                NULL|                    NULL|\n",
      "|{29-SEP-23}|      1|       81131|         1|                      1196737|                           0|                         0|                           0|                         0|                NULL|                    NULL|\n",
      "|{30-SEP-23}|      1|       63443|         1|                       949306|                           0|                         0|                           0|                         0|                NULL|                    NULL|\n",
      "|{31-AUG-23}|      1|       14133|         1|                       165052|                           0|                         0|                           0|                         0|2024-02-22 08:23:...|     1760162752066980560|\n",
      "+-----------+-------+------------+----------+-----------------------------+----------------------------+--------------------------+----------------------------+--------------------------+--------------------+------------------------+\n",
      "\n"
     ]
    }
   ],
   "source": [
    "spark.session.sql(\"SELECT * FROM DWH_RAW.RAW_CHE_PRODUCTIVITY_DETAILS.partitions;\").sort(\"partition\").show(50)"
   ]
  },
  {
   "cell_type": "code",
   "execution_count": 63,
   "id": "febe9357-436e-488c-85bf-3aa67df6f4e8",
   "metadata": {},
   "outputs": [
    {
     "name": "stderr",
     "output_type": "stream",
     "text": [
      "                                                                                \r"
     ]
    },
    {
     "data": {
      "text/plain": [
       "DataFrame[rewritten_data_files_count: int, added_data_files_count: int, rewritten_bytes_count: bigint, failed_data_files_count: int]"
      ]
     },
     "execution_count": 63,
     "metadata": {},
     "output_type": "execute_result"
    }
   ],
   "source": [
    "spark.session.sql(\"CALL system.rewrite_data_files('DWH_RAW.RAW_CHE_PRODUCTIVITY_DETAILS')\")"
   ]
  },
  {
   "cell_type": "code",
   "execution_count": 80,
   "id": "95e4acdc-d83b-4730-a440-4b1717cfae2a",
   "metadata": {},
   "outputs": [
    {
     "data": {
      "text/plain": [
       "DataFrame[]"
      ]
     },
     "execution_count": 80,
     "metadata": {},
     "output_type": "execute_result"
    }
   ],
   "source": [
    "# spark.session.sql(\"DELETE FROM DWH_RAW.RAW_CHE_PRODUCTIVITY_DETAILS WHERE EXEC_TS = '07-SEP-23'\")"
   ]
  },
  {
   "cell_type": "code",
   "execution_count": 115,
   "id": "952ff760-00ba-48a2-aaa8-bbcf3bf432fd",
   "metadata": {},
   "outputs": [
    {
     "name": "stderr",
     "output_type": "stream",
     "text": [
      "WARNING: An illegal reflective access operation has occurred\n",
      "WARNING: Illegal reflective access by org.apache.spark.util.SizeEstimator$ (file:/home/vdi-lab/airflow/airflowenv/lib/python3.10/site-packages/pyspark/jars/spark-core_2.12-3.5.0.jar) to field java.time.Clock$SystemClock.zone\n",
      "WARNING: Please consider reporting this to the maintainers of org.apache.spark.util.SizeEstimator$\n",
      "WARNING: Use --illegal-access=warn to enable warnings of further illegal reflective access operations\n",
      "WARNING: All illegal access operations will be denied in a future release\n",
      "                                                                                \r"
     ]
    },
    {
     "data": {
      "text/plain": [
       "DataFrame[rewritten_manifests_count: int, added_manifests_count: int]"
      ]
     },
     "execution_count": 115,
     "metadata": {},
     "output_type": "execute_result"
    }
   ],
   "source": [
    "spark.session.sql(\"CALL system.rewrite_manifests('DWH_RAW.RAW_CHE_PRODUCTIVITY_DETAILS')\")"
   ]
  },
  {
   "cell_type": "code",
   "execution_count": null,
   "id": "b51c2550-cc6f-4120-88c7-6f10cd1728f2",
   "metadata": {},
   "outputs": [],
   "source": []
  }
 ],
 "metadata": {
  "kernelspec": {
   "display_name": "Python 3 (ipykernel)",
   "language": "python",
   "name": "python3"
  },
  "language_info": {
   "codemirror_mode": {
    "name": "ipython",
    "version": 3
   },
   "file_extension": ".py",
   "mimetype": "text/x-python",
   "name": "python",
   "nbconvert_exporter": "python",
   "pygments_lexer": "ipython3",
   "version": "3.10.12"
  }
 },
 "nbformat": 4,
 "nbformat_minor": 5
}
